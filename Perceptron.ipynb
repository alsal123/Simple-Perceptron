{
  "nbformat": 4,
  "nbformat_minor": 0,
  "metadata": {
    "colab": {
      "provenance": []
    },
    "kernelspec": {
      "name": "python3",
      "display_name": "Python 3"
    },
    "language_info": {
      "name": "python"
    }
  },
  "cells": [
    {
      "cell_type": "code",
      "execution_count": 1,
      "metadata": {
        "id": "RzQ-FDcemfPY"
      },
      "outputs": [],
      "source": [
        "import numpy as np\n",
        "import pandas as pd\n",
        "from sklearn.metrics import accuracy_score \n",
        "from sklearn.model_selection import train_test_split\n",
        "\n",
        "# Load data and split into train and test sets\n",
        "df = pd.read_csv('Uniform.csv')\n",
        "features = df.columns[0:2]\n",
        "target = df.columns[2]\n",
        "\n",
        "X_train, X_test, y_train, y_test = train_test_split(df[features], df[target], train_size=0.7, random_state=10)\n",
        "\n",
        "# Define the Perceptron class\n",
        "class Perceptron:\n",
        "    def __init__(self, learning_rate, epochs):\n",
        "        self.learn = learning_rate\n",
        "        self.epochs = epochs\n",
        "        self.weights = None\n",
        "        self.bias = None\n",
        "\n",
        "    def fit(self, X, y):\n",
        "        self.bias = 0\n",
        "        self.weights = np.zeros(X.shape[1])\n",
        "\n",
        "        for epoch in range(self.epochs):\n",
        "            for i in range(X.shape[0]):\n",
        "                y_pred = self.activation_func(np.dot(self.weights, X[i]) + self.bias)\n",
        "                self.weights += self.learn * (y[i] - y_pred) * X[i]\n",
        "                self.bias += self.learn * (y[i] - y_pred)\n",
        "\n",
        "        print(f'****Perceptron Training Completed with Bias: {self.bias} and Weights: {self.weights}****')\n",
        "    \n",
        "    def activation_func(self, a):\n",
        "        return 1 if a >= 0 else 0\n",
        "\n",
        "    def predict(self, X):\n",
        "        y_pred = []\n",
        "        for i in range(X.shape[0]):\n",
        "            y_pred.append(self.activation_func(np.dot(self.weights, X[i]) + self.bias))\n",
        "        return np.array(y_pred)"
      ]
    },
    {
      "cell_type": "code",
      "source": [
        "\n",
        "# Train and evaluate the Perceptron model\n",
        "perceptron = Perceptron(learning_rate=0.01, epochs= 1000)\n",
        "perceptron.fit(X_train.to_numpy(), y_train.to_numpy())\n",
        "y_pred = perceptron.predict(X_test.to_numpy())\n",
        "\n",
        "print(f'Testing Completed with Accuracy Score: {accuracy_score(y_test, y_pred)}')"
      ],
      "metadata": {
        "colab": {
          "base_uri": "https://localhost:8080/"
        },
        "id": "xleKcvoKmnOG",
        "outputId": "f9b40c59-5462-4bc9-f2a5-7e7c70673859"
      },
      "execution_count": 2,
      "outputs": [
        {
          "output_type": "stream",
          "name": "stdout",
          "text": [
            "****Perceptron Training Completed with Bias: 0.08 and Weights: [-0.026827 -0.027131]****\n",
            "Testing Completed with Accuracy Score: 1.0\n"
          ]
        }
      ]
    },
    {
      "cell_type": "code",
      "source": [],
      "metadata": {
        "id": "XehHe7M1nEKF"
      },
      "execution_count": null,
      "outputs": []
    }
  ]
}